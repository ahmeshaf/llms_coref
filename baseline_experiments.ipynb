{
 "cells": [
  {
   "cell_type": "markdown",
   "metadata": {},
   "source": [
    "## OpenAI API Key setup"
   ]
  },
  {
   "cell_type": "code",
   "execution_count": 1,
   "metadata": {},
   "outputs": [],
   "source": [
    "import os\n",
    "import openai\n",
    "\n",
    "from dotenv import load_dotenv, find_dotenv\n",
    "_ = load_dotenv(find_dotenv()) # read local .env file\n",
    "openai.api_key = os.environ['OPENAI_API_KEY']"
   ]
  },
  {
   "cell_type": "markdown",
   "metadata": {},
   "source": [
    "## Load ECB"
   ]
  },
  {
   "cell_type": "markdown",
   "metadata": {},
   "source": [
    "datasets adopted from [ahmeshaf/lemma_ce_coref](https://github.com/ahmeshaf/lemma_ce_coref)"
   ]
  },
  {
   "cell_type": "code",
   "execution_count": 2,
   "metadata": {},
   "outputs": [],
   "source": [
    "import pickle"
   ]
  },
  {
   "cell_type": "code",
   "execution_count": 3,
   "metadata": {},
   "outputs": [],
   "source": [
    "# load the ECB+ dataset\n",
    "dataset_folder = f'datasets/ecb/'\n",
    "mention_map = pickle.load(open(dataset_folder + \"/mention_map.pkl\", 'rb'))\n",
    "evt_mention_map = {m_id: m for m_id, m in mention_map.items() if m['men_type'] == 'evt'}"
   ]
  },
  {
   "cell_type": "code",
   "execution_count": 4,
   "metadata": {},
   "outputs": [],
   "source": [
    "# load the predictions made by the lemma heuristics on the \\\n",
    "# dev set of the ECB+ dataset\n",
    "dev_preidctions = pickle.load(open(\"datasets/ecb/lh/mp_mp_t_dev.pkl\", 'rb'))\n",
    "_, (tps_trans, fps_trans, tns_trans, fns_trans) = dev_preidctions"
   ]
  },
  {
   "cell_type": "code",
   "execution_count": 5,
   "metadata": {},
   "outputs": [
    {
     "data": {
      "text/plain": [
       "('12_11ecbplus.xml_21', '12_10ecbplus.xml_9')"
      ]
     },
     "execution_count": 5,
     "metadata": {},
     "output_type": "execute_result"
    }
   ],
   "source": [
    "tps_trans[0]"
   ]
  },
  {
   "cell_type": "code",
   "execution_count": 6,
   "metadata": {},
   "outputs": [
    {
     "data": {
      "text/plain": [
       "{'m_id': '21',\n",
       " 'sentence_id': '3',\n",
       " 'topic': '12',\n",
       " 'men_type': 'evt',\n",
       " 'split': 'dev',\n",
       " 'mention_text': 'attempt',\n",
       " 'sentence': 'Warship INS Sukanya on Thursday foiled a piracy attempt in the Gulf of Aden between Somalia and Yemen .',\n",
       " 'doc_id': '12_11ecbplus.xml',\n",
       " 'type': 'action_occurrence',\n",
       " 'start': 8,\n",
       " 'end': 8,\n",
       " 'bert_sentence': 'Warship INS Sukanya on Thursday foiled a piracy <m> attempt </m> in the Gulf of Aden between Somalia and Yemen .',\n",
       " 'bert_doc': 'http : / / www . indianexpress . com / news / ins - sukanya - foils - piracy - attempt - in - gulf - of - eden / 874560 /\\nINS Sukanya foils piracy attempt in Gulf of Eden\\nSat Nov 12 2011 , 01 : 19 hrs\\nWarship INS Sukanya on Thursday foiled a piracy <m> attempt </m> in the Gulf of Aden between Somalia and Yemen .\\nThe ship was escorting a group of five merchant vessels through the Internationally Recognised Transit Corridor ( IRTC ) when the bid occurred .\\nThis is the fifth anti - piracy operation carried out by the warship after it was sent for patrol missions to the Gulf of Aden in September .\\nThe course of INS Sukanya was altered to intercept boats targeting the merchant vessels .\\n\"The incident occurred around 9 . 25 am when five boats were seen approaching the vessels . . .\\nSeeing the warship headed in their direction , the skiffs tried to escape .\\nWhile two of them managed to flee , boarding - and - search operations were carried out on the other three , \" a defence spokesperson said .\\nSix AK 47 rifles , 12 magazines and 300 rounds of ammunition were seized from the boats .\\nThey had 26 crewmen aboard , all Somalian nationals .\\n\"We also managed to find grapnels , ladders and rope - handling gloves , which are proof that those caught were pirates . \"',\n",
       " 'gold_cluster': 'ACT17399394379261869',\n",
       " 'tag_descriptor': 't12_piracy_attack',\n",
       " 'start_char': 48,\n",
       " 'end_char': 55,\n",
       " 'lemma': 'attempt',\n",
       " 'pos': 'NOUN',\n",
       " 'sentence_tokens': ['warship',\n",
       "  'ins',\n",
       "  'sukanya',\n",
       "  'thursday',\n",
       "  'foil',\n",
       "  'piracy',\n",
       "  'attempt',\n",
       "  'gulf',\n",
       "  'aden',\n",
       "  'somalia',\n",
       "  'yemen'],\n",
       " 'has_pron': False,\n",
       " 'mention_vector': array([ 3.0319e+00,  1.6218e+00, -3.1462e+00,  2.4281e-01,  9.3998e+00,\n",
       "         1.7298e+00,  1.4996e+00,  1.9652e+00, -7.5068e-01, -6.6367e-01,\n",
       "         4.3909e+00,  4.1878e+00, -2.7388e+00,  1.5599e+00, -1.3674e+00,\n",
       "         2.1781e+00,  9.6521e-01, -5.4966e+00,  2.1139e-01, -2.7622e-01,\n",
       "         1.5799e+00, -6.5347e-01, -5.3029e-01,  4.6792e-01, -2.5549e-01,\n",
       "        -3.6503e+00, -1.9165e+00, -2.7176e-01,  1.5477e+00, -1.8616e+00,\n",
       "        -5.8422e-01, -1.0172e+00,  3.2149e+00,  4.7569e-01, -1.0239e-01,\n",
       "         4.2293e-01,  2.9327e-01,  3.6586e+00, -6.8991e-01, -6.8480e-01,\n",
       "        -2.3917e+00, -1.8983e+00, -1.2993e+00, -7.4362e-01, -5.7394e+00,\n",
       "        -5.3917e-01,  3.5927e+00, -1.0202e-01,  2.6489e+00,  2.6236e-01,\n",
       "        -2.7156e+00, -9.8398e-01, -1.5100e+00, -6.7600e+00, -3.3255e+00,\n",
       "        -7.2274e-01,  3.4320e+00, -2.9071e+00,  5.8480e-01,  2.3215e+00,\n",
       "         1.6767e+00,  3.0671e-01, -4.7287e+00, -1.7643e+00,  3.3421e+00,\n",
       "         1.5927e+00, -2.7139e+00, -6.4240e+00,  8.0228e-01,  1.7130e+00,\n",
       "         2.8519e+00, -2.7003e+00, -9.4502e-01,  3.8339e+00, -6.0118e-01,\n",
       "         1.6764e+00, -1.9406e+00,  2.3828e+00, -1.2012e+00, -3.3023e+00,\n",
       "        -4.3703e+00, -7.5907e-01,  6.4437e-01,  5.6435e+00, -1.7181e+00,\n",
       "         1.9230e+00, -2.1709e+00, -5.6922e+00,  2.1843e+00,  2.2583e+00,\n",
       "         2.4469e+00,  5.1301e+00,  1.3525e-01, -1.7418e+00,  5.4845e+00,\n",
       "         2.4379e-01,  4.0591e-01,  2.9891e-01, -1.4434e+00, -2.6170e+00,\n",
       "         1.4122e+00,  3.0382e+00,  5.0350e+00,  7.0462e-01, -2.1710e+00,\n",
       "         1.9416e+00,  1.8065e+00, -2.9786e+00,  1.8199e+00, -3.7630e+00,\n",
       "        -1.1454e+00, -9.6687e-01, -1.3758e+00, -2.0000e-01, -3.2226e-01,\n",
       "         3.1136e-01, -3.1598e+00,  1.4616e+00,  5.7187e+00,  1.0053e+00,\n",
       "        -6.4627e-01, -5.6452e+00,  3.5840e-01, -9.9072e-01, -1.9046e+00,\n",
       "         2.2390e-01,  1.9880e+00, -2.3929e+00,  9.3146e-01, -1.0279e+00,\n",
       "        -7.7818e-01, -1.1104e+00,  3.9989e+00, -3.1922e+00, -1.0592e+00,\n",
       "        -1.9750e+00,  2.8254e+00,  3.2802e+00,  3.2446e+00, -3.5404e+00,\n",
       "        -5.4385e+00, -3.7341e+00, -3.1373e+00,  4.3495e-01,  3.4480e+00,\n",
       "         7.8205e-01, -3.9648e+00,  2.0894e+00, -2.4356e-01,  2.0796e+00,\n",
       "         1.1835e+00,  4.6197e+00,  1.2842e+00, -1.2539e+00, -3.0611e+00,\n",
       "         1.9878e+00,  7.0094e+00, -4.0184e+00, -2.3400e+00, -1.9386e-01,\n",
       "        -1.1624e+00, -5.8950e-01,  2.1868e-02, -5.7262e-01, -6.1131e-01,\n",
       "         2.9163e-03, -2.0919e+00,  3.0078e+00, -4.2823e+00, -3.5443e+00,\n",
       "         3.0310e-01,  3.1749e+00,  6.9572e+00, -1.7257e+00,  1.8286e-02,\n",
       "        -3.7074e+00, -2.5787e-01, -3.1071e+00, -5.8098e+00, -5.0183e+00,\n",
       "         1.2405e+00, -4.4907e-02, -1.7093e+00,  3.1131e-02, -9.0463e-01,\n",
       "         2.3844e+00, -4.4321e+00, -1.2484e+00,  3.5078e+00, -7.6376e-01,\n",
       "        -7.7560e-01, -5.5199e+00, -1.2742e+00, -5.4580e+00, -3.6229e+00,\n",
       "        -5.2622e+00, -2.6177e+00, -1.1516e+00, -2.5919e+00,  5.3202e+00,\n",
       "        -6.1265e+00, -2.5141e+00,  1.1467e+00, -2.8183e+00, -8.8758e-01,\n",
       "        -3.1031e+00,  1.0428e+00,  6.1484e-01, -3.4839e-01, -3.0853e+00,\n",
       "        -1.6494e+00,  4.1749e-02, -5.1659e-01, -2.8644e-01,  3.4570e+00,\n",
       "         8.0970e-01,  1.2718e+00, -1.5163e+00, -9.4520e-01, -3.3853e+00,\n",
       "        -5.3705e+00, -2.1645e+00, -2.1831e+00,  1.4693e+00, -7.2923e-01,\n",
       "        -1.0763e+00,  2.0038e+00,  3.2526e+00,  3.7165e-01, -4.2655e-01,\n",
       "         2.0207e+00, -3.0730e+00,  5.5253e-01,  1.8897e+00,  2.7261e+00,\n",
       "         4.7040e+00, -4.0953e+00, -2.3563e+00,  3.3247e-02, -1.4310e+00,\n",
       "         9.6422e-02, -1.4059e+00, -1.9302e+00,  2.8813e+00,  3.4745e+00,\n",
       "         3.5384e+00, -2.4755e-01, -1.2871e-01,  3.3518e-01,  2.2959e+00,\n",
       "         2.0278e+00, -4.7473e+00,  4.4151e-01,  1.4282e+00,  1.9866e-01,\n",
       "        -1.0577e+00,  4.9648e-01, -9.9755e-01, -1.0262e+00,  4.1429e+00,\n",
       "        -2.8208e+00,  1.6639e+00,  1.9312e+00, -3.1473e-01,  1.3528e-01,\n",
       "         5.1400e-01,  5.3721e+00, -3.8017e+00, -4.7849e+00,  5.9676e-01,\n",
       "        -1.7874e+00, -7.1668e-02, -5.8377e-01,  4.9794e+00, -6.8869e-01,\n",
       "        -4.7114e-01,  2.9271e+00, -3.8848e+00, -4.1097e+00,  5.3792e+00,\n",
       "        -3.6693e+00, -9.2136e-01, -6.9382e-02,  6.6744e+00,  2.9942e+00,\n",
       "        -7.6236e-01, -6.4996e-01,  3.0266e+00, -1.3629e+00, -1.5758e+00,\n",
       "         2.9769e+00, -1.7139e+00, -3.7974e+00,  1.3460e+00,  8.4612e-01,\n",
       "         4.5959e-01,  2.0322e+00, -3.1763e+00, -7.8481e-01,  3.3340e+00],\n",
       "       dtype=float32),\n",
       " 'lemma_vector': array([ 3.0319e+00,  1.6218e+00, -3.1462e+00,  2.4281e-01,  9.3998e+00,\n",
       "         1.7298e+00,  1.4996e+00,  1.9652e+00, -7.5068e-01, -6.6367e-01,\n",
       "         4.3909e+00,  4.1878e+00, -2.7388e+00,  1.5599e+00, -1.3674e+00,\n",
       "         2.1781e+00,  9.6521e-01, -5.4966e+00,  2.1139e-01, -2.7622e-01,\n",
       "         1.5799e+00, -6.5347e-01, -5.3029e-01,  4.6792e-01, -2.5549e-01,\n",
       "        -3.6503e+00, -1.9165e+00, -2.7176e-01,  1.5477e+00, -1.8616e+00,\n",
       "        -5.8422e-01, -1.0172e+00,  3.2149e+00,  4.7569e-01, -1.0239e-01,\n",
       "         4.2293e-01,  2.9327e-01,  3.6586e+00, -6.8991e-01, -6.8480e-01,\n",
       "        -2.3917e+00, -1.8983e+00, -1.2993e+00, -7.4362e-01, -5.7394e+00,\n",
       "        -5.3917e-01,  3.5927e+00, -1.0202e-01,  2.6489e+00,  2.6236e-01,\n",
       "        -2.7156e+00, -9.8398e-01, -1.5100e+00, -6.7600e+00, -3.3255e+00,\n",
       "        -7.2274e-01,  3.4320e+00, -2.9071e+00,  5.8480e-01,  2.3215e+00,\n",
       "         1.6767e+00,  3.0671e-01, -4.7287e+00, -1.7643e+00,  3.3421e+00,\n",
       "         1.5927e+00, -2.7139e+00, -6.4240e+00,  8.0228e-01,  1.7130e+00,\n",
       "         2.8519e+00, -2.7003e+00, -9.4502e-01,  3.8339e+00, -6.0118e-01,\n",
       "         1.6764e+00, -1.9406e+00,  2.3828e+00, -1.2012e+00, -3.3023e+00,\n",
       "        -4.3703e+00, -7.5907e-01,  6.4437e-01,  5.6435e+00, -1.7181e+00,\n",
       "         1.9230e+00, -2.1709e+00, -5.6922e+00,  2.1843e+00,  2.2583e+00,\n",
       "         2.4469e+00,  5.1301e+00,  1.3525e-01, -1.7418e+00,  5.4845e+00,\n",
       "         2.4379e-01,  4.0591e-01,  2.9891e-01, -1.4434e+00, -2.6170e+00,\n",
       "         1.4122e+00,  3.0382e+00,  5.0350e+00,  7.0462e-01, -2.1710e+00,\n",
       "         1.9416e+00,  1.8065e+00, -2.9786e+00,  1.8199e+00, -3.7630e+00,\n",
       "        -1.1454e+00, -9.6687e-01, -1.3758e+00, -2.0000e-01, -3.2226e-01,\n",
       "         3.1136e-01, -3.1598e+00,  1.4616e+00,  5.7187e+00,  1.0053e+00,\n",
       "        -6.4627e-01, -5.6452e+00,  3.5840e-01, -9.9072e-01, -1.9046e+00,\n",
       "         2.2390e-01,  1.9880e+00, -2.3929e+00,  9.3146e-01, -1.0279e+00,\n",
       "        -7.7818e-01, -1.1104e+00,  3.9989e+00, -3.1922e+00, -1.0592e+00,\n",
       "        -1.9750e+00,  2.8254e+00,  3.2802e+00,  3.2446e+00, -3.5404e+00,\n",
       "        -5.4385e+00, -3.7341e+00, -3.1373e+00,  4.3495e-01,  3.4480e+00,\n",
       "         7.8205e-01, -3.9648e+00,  2.0894e+00, -2.4356e-01,  2.0796e+00,\n",
       "         1.1835e+00,  4.6197e+00,  1.2842e+00, -1.2539e+00, -3.0611e+00,\n",
       "         1.9878e+00,  7.0094e+00, -4.0184e+00, -2.3400e+00, -1.9386e-01,\n",
       "        -1.1624e+00, -5.8950e-01,  2.1868e-02, -5.7262e-01, -6.1131e-01,\n",
       "         2.9163e-03, -2.0919e+00,  3.0078e+00, -4.2823e+00, -3.5443e+00,\n",
       "         3.0310e-01,  3.1749e+00,  6.9572e+00, -1.7257e+00,  1.8286e-02,\n",
       "        -3.7074e+00, -2.5787e-01, -3.1071e+00, -5.8098e+00, -5.0183e+00,\n",
       "         1.2405e+00, -4.4907e-02, -1.7093e+00,  3.1131e-02, -9.0463e-01,\n",
       "         2.3844e+00, -4.4321e+00, -1.2484e+00,  3.5078e+00, -7.6376e-01,\n",
       "        -7.7560e-01, -5.5199e+00, -1.2742e+00, -5.4580e+00, -3.6229e+00,\n",
       "        -5.2622e+00, -2.6177e+00, -1.1516e+00, -2.5919e+00,  5.3202e+00,\n",
       "        -6.1265e+00, -2.5141e+00,  1.1467e+00, -2.8183e+00, -8.8758e-01,\n",
       "        -3.1031e+00,  1.0428e+00,  6.1484e-01, -3.4839e-01, -3.0853e+00,\n",
       "        -1.6494e+00,  4.1749e-02, -5.1659e-01, -2.8644e-01,  3.4570e+00,\n",
       "         8.0970e-01,  1.2718e+00, -1.5163e+00, -9.4520e-01, -3.3853e+00,\n",
       "        -5.3705e+00, -2.1645e+00, -2.1831e+00,  1.4693e+00, -7.2923e-01,\n",
       "        -1.0763e+00,  2.0038e+00,  3.2526e+00,  3.7165e-01, -4.2655e-01,\n",
       "         2.0207e+00, -3.0730e+00,  5.5253e-01,  1.8897e+00,  2.7261e+00,\n",
       "         4.7040e+00, -4.0953e+00, -2.3563e+00,  3.3247e-02, -1.4310e+00,\n",
       "         9.6422e-02, -1.4059e+00, -1.9302e+00,  2.8813e+00,  3.4745e+00,\n",
       "         3.5384e+00, -2.4755e-01, -1.2871e-01,  3.3518e-01,  2.2959e+00,\n",
       "         2.0278e+00, -4.7473e+00,  4.4151e-01,  1.4282e+00,  1.9866e-01,\n",
       "        -1.0577e+00,  4.9648e-01, -9.9755e-01, -1.0262e+00,  4.1429e+00,\n",
       "        -2.8208e+00,  1.6639e+00,  1.9312e+00, -3.1473e-01,  1.3528e-01,\n",
       "         5.1400e-01,  5.3721e+00, -3.8017e+00, -4.7849e+00,  5.9676e-01,\n",
       "        -1.7874e+00, -7.1668e-02, -5.8377e-01,  4.9794e+00, -6.8869e-01,\n",
       "        -4.7114e-01,  2.9271e+00, -3.8848e+00, -4.1097e+00,  5.3792e+00,\n",
       "        -3.6693e+00, -9.2136e-01, -6.9382e-02,  6.6744e+00,  2.9942e+00,\n",
       "        -7.6236e-01, -6.4996e-01,  3.0266e+00, -1.3629e+00, -1.5758e+00,\n",
       "         2.9769e+00, -1.7139e+00, -3.7974e+00,  1.3460e+00,  8.4612e-01,\n",
       "         4.5959e-01,  2.0322e+00, -3.1763e+00, -7.8481e-01,  3.3340e+00],\n",
       "       dtype=float32),\n",
       " 'frames': {'Attempt', 'Medical_intervention'},\n",
       " 'frame_ids': {116, 2741},\n",
       " 'predicted_topic': None}"
      ]
     },
     "execution_count": 6,
     "metadata": {},
     "output_type": "execute_result"
    }
   ],
   "source": [
    "evt_mention_map.get('12_11ecbplus.xml_21')"
   ]
  },
  {
   "cell_type": "markdown",
   "metadata": {},
   "source": [
    "## Baseline Experiments with Langchain"
   ]
  },
  {
   "cell_type": "markdown",
   "metadata": {},
   "source": [
    "The output parser may initially appear redundant, given the straightforward nature of the baseline output. <br>\n",
    "However, its utility becomes useful when implementing advanced prompting methods, such as the `chain of thought` technique."
   ]
  },
  {
   "cell_type": "code",
   "execution_count": 7,
   "metadata": {},
   "outputs": [],
   "source": [
    "from langchain import LLMChain, PromptTemplate\n",
    "from langchain.chat_models import ChatOpenAI\n",
    "from langchain.output_parsers import ResponseSchema, StructuredOutputParser"
   ]
  },
  {
   "cell_type": "markdown",
   "metadata": {},
   "source": [
    "__Baseline prompt__"
   ]
  },
  {
   "cell_type": "markdown",
   "metadata": {},
   "source": [
    "You are en expert Event Coreference Resolution System. <br>\n",
    "I will provide two sentences with marked events. Your task is to identify if they both refer to the same event.<br>\n",
    "If they are coreferent, please return \"True\", otherwise write \"False\"."
   ]
  },
  {
   "cell_type": "code",
   "execution_count": 8,
   "metadata": {},
   "outputs": [],
   "source": [
    "baseline_template = \"\"\"\n",
    "You are en expert Event Coreference Resolution System. I will provide two sentences with marked events. Your task is to identify if they both refer to the same event. If they are coreferent, please return \"True\", otherwise write \"False\".\n",
    "{format_instructions}\n",
    "Event1: {event1}\n",
    "Event2: {event2}\n",
    "Your answer: \n",
    "\"\"\""
   ]
  },
  {
   "cell_type": "code",
   "execution_count": 9,
   "metadata": {},
   "outputs": [],
   "source": [
    "baseline_response_schemas = [\n",
    "    ResponseSchema(\n",
    "        name=\"Answer\",\n",
    "        description=(\"Determines if two marked events in provided sentences refer to the same event.\"\n",
    "                     \"You answer should only be 'True' or 'False'.\")\n",
    "    ),\n",
    "]\n",
    "baseline_output_parser = StructuredOutputParser.from_response_schemas(baseline_response_schemas)\n",
    "baseline_format_instructions = baseline_output_parser.get_format_instructions()"
   ]
  },
  {
   "cell_type": "code",
   "execution_count": 10,
   "metadata": {},
   "outputs": [],
   "source": [
    "baseline_prompt = PromptTemplate(\n",
    "    template=baseline_template,\n",
    "    input_variables=['event1', 'event2'],\n",
    "    partial_variables={\"format_instructions\": baseline_format_instructions},\n",
    ")"
   ]
  },
  {
   "cell_type": "code",
   "execution_count": 11,
   "metadata": {},
   "outputs": [],
   "source": [
    "llm = ChatOpenAI(temperature=0.0, model='gpt-4')\n",
    "basline_chain = LLMChain(llm=llm, prompt=baseline_prompt)"
   ]
  },
  {
   "cell_type": "code",
   "execution_count": 12,
   "metadata": {},
   "outputs": [
    {
     "name": "stdout",
     "output_type": "stream",
     "text": [
      "Warship INS Sukanya on Thursday foiled a piracy <m> attempt </m> in the Gulf of Aden between Somalia and Yemen .\n",
      "Indian navy has foiled a piracy <m> attempt </m> on 5 Indian merchant vessels in international waters .\n"
     ]
    }
   ],
   "source": [
    "# example: a pair of events from true positve set\n",
    "event1 = evt_mention_map.get(tps_trans[0][0])['bert_sentence']\n",
    "event2 = evt_mention_map.get(tps_trans[0][1])['bert_sentence']\n",
    "print(event1)\n",
    "print(event2)"
   ]
  },
  {
   "cell_type": "code",
   "execution_count": 19,
   "metadata": {},
   "outputs": [
    {
     "name": "stdout",
     "output_type": "stream",
     "text": [
      "{'Answer': 'False'}\n"
     ]
    }
   ],
   "source": [
    "predict = basline_chain.run(event1=event1, event2=event2, verbose=True)\n",
    "predict_dict = baseline_output_parser.parse(predict)\n",
    "print(predict_dict)"
   ]
  },
  {
   "cell_type": "markdown",
   "metadata": {},
   "source": [
    "The GPT 4 got this pair wrong..."
   ]
  },
  {
   "cell_type": "markdown",
   "metadata": {},
   "source": [
    "### Experiment in scope"
   ]
  },
  {
   "cell_type": "code",
   "execution_count": 16,
   "metadata": {},
   "outputs": [],
   "source": [
    "import os\n",
    "from collections import defaultdict\n",
    "from tqdm import tqdm"
   ]
  },
  {
   "cell_type": "code",
   "execution_count": null,
   "metadata": {},
   "outputs": [],
   "source": [
    "tps_trans_baseline_results = defaultdict(dict)\n",
    "\n",
    "for evt_pair in tqdm(tps_trans):\n",
    "    event1_id = evt_pair[0]\n",
    "    event2_id = evt_pair[1]\n",
    "    \n",
    "    event1_data = evt_mention_map.get(event1_id)\n",
    "    event2_data = evt_mention_map.get(event2_id)\n",
    "\n",
    "    if event1_data is None or event2_data is None:\n",
    "        continue\n",
    "\n",
    "    event1 = event1_data['bert_sentence']\n",
    "    event2 = event2_data['bert_sentence']\n",
    "\n",
    "    predict = basline_chain.run(event1=event1, event2=event2)\n",
    "    predict_dict = baseline_output_parser.parse(predict)\n",
    "\n",
    "    tps_trans_baseline_results[evt_pair] = {\n",
    "        'event1_id': event1_id,\n",
    "        'event2_id': event2_id,\n",
    "        'event1': event1,\n",
    "        'event2': event2,\n",
    "        'predict_dict': predict_dict,\n",
    "        'gold_label': True\n",
    "    }"
   ]
  },
  {
   "cell_type": "code",
   "execution_count": null,
   "metadata": {},
   "outputs": [],
   "source": [
    "fps_trans_baseline_results = defaultdict(dict)\n",
    "\n",
    "for evt_pair in tqdm(fps_trans):\n",
    "    event1_id = evt_pair[0]\n",
    "    event2_id = evt_pair[1]\n",
    "    \n",
    "    event1_data = evt_mention_map.get(event1_id)\n",
    "    event2_data = evt_mention_map.get(event2_id)\n",
    "\n",
    "    if event1_data is None or event2_data is None:\n",
    "        continue\n",
    "\n",
    "    event1 = event1_data['bert_sentence']\n",
    "    event2 = event2_data['bert_sentence']\n",
    "\n",
    "    predict = basline_chain.run(event1=event1, event2=event2)\n",
    "    predict_dict = baseline_output_parser.parse(predict)\n",
    "\n",
    "    fps_trans_baseline_results[evt_pair] = {\n",
    "        'event1_id': event1_id,\n",
    "        'event2_id': event2_id,\n",
    "        'event1': event1,\n",
    "        'event2': event2,\n",
    "        'predict_dict': predict_dict,\n",
    "        'gold_label': False\n",
    "    }\n"
   ]
  },
  {
   "cell_type": "code",
   "execution_count": null,
   "metadata": {},
   "outputs": [],
   "source": [
    "save_folder = 'datasets/ecb/llm/dev'\n",
    "if not os.path.exists(save_folder):\n",
    "    os.makedirs(save_folder)\n",
    "\n",
    "with open(f'{save_folder}/tps_trans_baseline_results.pkl', 'wb') as f:\n",
    "    pickle.dump(tps_trans_baseline_results, f)\n",
    "\n",
    "with open(f'{save_folder}/fps_trans_baseline_results.pkl', 'wb') as f:\n",
    "    pickle.dump(fps_trans_baseline_results, f)\n",
    "\n"
   ]
  }
 ],
 "metadata": {
  "kernelspec": {
   "display_name": "base",
   "language": "python",
   "name": "python3"
  },
  "language_info": {
   "codemirror_mode": {
    "name": "ipython",
    "version": 3
   },
   "file_extension": ".py",
   "mimetype": "text/x-python",
   "name": "python",
   "nbconvert_exporter": "python",
   "pygments_lexer": "ipython3",
   "version": "3.10.9"
  },
  "orig_nbformat": 4
 },
 "nbformat": 4,
 "nbformat_minor": 2
}
